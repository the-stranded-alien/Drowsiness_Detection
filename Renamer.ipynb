{
 "cells": [
  {
   "cell_type": "code",
   "execution_count": 11,
   "metadata": {},
   "outputs": [],
   "source": [
    "import os"
   ]
  },
  {
   "cell_type": "code",
   "execution_count": 12,
   "metadata": {},
   "outputs": [],
   "source": [
    "basepath1 = \"CSV_DataFiles/\"\n",
    "basepath2 = \"MinMaxCSV_DataFiles/\"\n",
    "\n",
    "f1 = os.listdir(basepath1)\n",
    "f2 = os.listdir(basepath2)"
   ]
  },
  {
   "cell_type": "code",
   "execution_count": 14,
   "metadata": {},
   "outputs": [],
   "source": [
    "for f in f1:\n",
    "    x = f.split(\".\")[0].split(\"-\")[0]\n",
    "    y = f.split(\".\")[0].split(\"-\")[1]\n",
    "    ynew = 0\n",
    "    if y == '5':\n",
    "        ynew = '10'\n",
    "    if y == '10':\n",
    "        ynew = '5'\n",
    "    os.rename(basepath1 + f, basepath1 + str(x) + \".\" + str(ynew) + \".csv\")"
   ]
  },
  {
   "cell_type": "code",
   "execution_count": 16,
   "metadata": {},
   "outputs": [],
   "source": [
    "for f in f2:\n",
    "    x = f.split(\".\")[0].split(\"-\")[0]\n",
    "    y = f.split(\".\")[0].split(\"-\")[1]\n",
    "    ynew = 0\n",
    "    if y == '5':\n",
    "        ynew = '10'\n",
    "    if y == '10':\n",
    "        ynew = '5'\n",
    "    os.rename(basepath2 + f, basepath2 + str(x) + \".\" + str(ynew) + \".csv\")"
   ]
  }
 ],
 "metadata": {
  "kernelspec": {
   "display_name": "Python 3",
   "language": "python",
   "name": "python3"
  },
  "language_info": {
   "codemirror_mode": {
    "name": "ipython",
    "version": 3
   },
   "file_extension": ".py",
   "mimetype": "text/x-python",
   "name": "python",
   "nbconvert_exporter": "python",
   "pygments_lexer": "ipython3",
   "version": "3.6.8"
  }
 },
 "nbformat": 4,
 "nbformat_minor": 2
}
