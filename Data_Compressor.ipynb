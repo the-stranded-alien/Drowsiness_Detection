{
 "cells": [
  {
   "cell_type": "code",
   "execution_count": 1,
   "metadata": {},
   "outputs": [],
   "source": [
    "import os\n",
    "import pandas as pd\n",
    "import glob"
   ]
  },
  {
   "cell_type": "code",
   "execution_count": 2,
   "metadata": {},
   "outputs": [],
   "source": [
    "path  = \"5%-MinMax_Scaled_CSV_Files/\""
   ]
  },
  {
   "cell_type": "code",
   "execution_count": 3,
   "metadata": {},
   "outputs": [
    {
     "name": "stdout",
     "output_type": "stream",
     "text": [
      "180\n"
     ]
    }
   ],
   "source": [
    "files = os.listdir(path)\n",
    "print(len(files))"
   ]
  },
  {
   "cell_type": "code",
   "execution_count": 4,
   "metadata": {},
   "outputs": [
    {
     "name": "stdout",
     "output_type": "stream",
     "text": [
      "<class 'pandas.core.frame.DataFrame'>\n",
      "Index: 0 entries\n",
      "Columns: 137 entries, 0 to 136\n",
      "dtypes: object(137)\n",
      "memory usage: 0.0+ bytes\n"
     ]
    }
   ],
   "source": [
    "minMaxDb = pd.DataFrame(columns=[i for i in range((68*2)+1)])\n",
    "minMaxDb.info()"
   ]
  },
  {
   "cell_type": "code",
   "execution_count": 5,
   "metadata": {},
   "outputs": [],
   "source": [
    "hdf_path = 'min_max_scaled_compressed_datafile.h5'"
   ]
  },
  {
   "cell_type": "code",
   "execution_count": 6,
   "metadata": {},
   "outputs": [
    {
     "name": "stdout",
     "output_type": "stream",
     "text": [
      "5%-MinMax_Scaled_CSV_Files/01.0.csv\n",
      "5%-MinMax_Scaled_CSV_Files/01.10.csv\n",
      "5%-MinMax_Scaled_CSV_Files/01.5.csv\n",
      "5%-MinMax_Scaled_CSV_Files/02.0.csv\n",
      "5%-MinMax_Scaled_CSV_Files/02.10.csv\n",
      "5%-MinMax_Scaled_CSV_Files/02.5.csv\n",
      "5%-MinMax_Scaled_CSV_Files/03.0.csv\n",
      "5%-MinMax_Scaled_CSV_Files/03.10.csv\n",
      "5%-MinMax_Scaled_CSV_Files/03.5.csv\n",
      "5%-MinMax_Scaled_CSV_Files/04.0.csv\n",
      "5%-MinMax_Scaled_CSV_Files/04.10.csv\n",
      "5%-MinMax_Scaled_CSV_Files/04.5.csv\n",
      "5%-MinMax_Scaled_CSV_Files/05.0.csv\n",
      "5%-MinMax_Scaled_CSV_Files/05.10.csv\n",
      "5%-MinMax_Scaled_CSV_Files/05.5.csv\n",
      "5%-MinMax_Scaled_CSV_Files/06.0.csv\n",
      "5%-MinMax_Scaled_CSV_Files/06.10.csv\n",
      "5%-MinMax_Scaled_CSV_Files/06.5.csv\n",
      "5%-MinMax_Scaled_CSV_Files/07.0.csv\n",
      "5%-MinMax_Scaled_CSV_Files/07.10.csv\n",
      "5%-MinMax_Scaled_CSV_Files/07.5.csv\n",
      "5%-MinMax_Scaled_CSV_Files/08.0.csv\n",
      "5%-MinMax_Scaled_CSV_Files/08.10.csv\n",
      "5%-MinMax_Scaled_CSV_Files/08.5.csv\n",
      "5%-MinMax_Scaled_CSV_Files/09.0.csv\n",
      "5%-MinMax_Scaled_CSV_Files/09.10.csv\n",
      "5%-MinMax_Scaled_CSV_Files/09.5.csv\n",
      "5%-MinMax_Scaled_CSV_Files/10.0.csv\n",
      "5%-MinMax_Scaled_CSV_Files/10.10.csv\n",
      "5%-MinMax_Scaled_CSV_Files/10.5.csv\n",
      "5%-MinMax_Scaled_CSV_Files/11.0.csv\n",
      "5%-MinMax_Scaled_CSV_Files/11.10.csv\n",
      "5%-MinMax_Scaled_CSV_Files/11.5.csv\n",
      "5%-MinMax_Scaled_CSV_Files/12.0.csv\n",
      "5%-MinMax_Scaled_CSV_Files/12.10.csv\n",
      "5%-MinMax_Scaled_CSV_Files/12.5.csv\n",
      "5%-MinMax_Scaled_CSV_Files/13.0.csv\n",
      "5%-MinMax_Scaled_CSV_Files/13.10.csv\n",
      "5%-MinMax_Scaled_CSV_Files/13.5.csv\n",
      "5%-MinMax_Scaled_CSV_Files/14.0.csv\n",
      "5%-MinMax_Scaled_CSV_Files/14.10.csv\n",
      "5%-MinMax_Scaled_CSV_Files/14.5.csv\n",
      "5%-MinMax_Scaled_CSV_Files/15.0.csv\n",
      "5%-MinMax_Scaled_CSV_Files/15.10.csv\n",
      "5%-MinMax_Scaled_CSV_Files/15.5.csv\n",
      "5%-MinMax_Scaled_CSV_Files/16.0.csv\n",
      "5%-MinMax_Scaled_CSV_Files/16.10.csv\n",
      "5%-MinMax_Scaled_CSV_Files/16.5.csv\n",
      "5%-MinMax_Scaled_CSV_Files/17.0.csv\n",
      "5%-MinMax_Scaled_CSV_Files/17.10.csv\n",
      "5%-MinMax_Scaled_CSV_Files/17.5.csv\n",
      "5%-MinMax_Scaled_CSV_Files/18.0.csv\n",
      "5%-MinMax_Scaled_CSV_Files/18.10.csv\n",
      "5%-MinMax_Scaled_CSV_Files/18.5.csv\n",
      "5%-MinMax_Scaled_CSV_Files/19.0.csv\n",
      "5%-MinMax_Scaled_CSV_Files/19.10.csv\n",
      "5%-MinMax_Scaled_CSV_Files/19.5.csv\n",
      "5%-MinMax_Scaled_CSV_Files/20.0.csv\n",
      "5%-MinMax_Scaled_CSV_Files/20.10.csv\n",
      "5%-MinMax_Scaled_CSV_Files/20.5.csv\n",
      "5%-MinMax_Scaled_CSV_Files/21.0.csv\n",
      "5%-MinMax_Scaled_CSV_Files/21.10.csv\n",
      "5%-MinMax_Scaled_CSV_Files/21.5.csv\n",
      "5%-MinMax_Scaled_CSV_Files/22.0.csv\n",
      "5%-MinMax_Scaled_CSV_Files/22.10.csv\n",
      "5%-MinMax_Scaled_CSV_Files/22.5.csv\n",
      "5%-MinMax_Scaled_CSV_Files/23.0.csv\n",
      "5%-MinMax_Scaled_CSV_Files/23.10.csv\n",
      "5%-MinMax_Scaled_CSV_Files/23.5.csv\n",
      "5%-MinMax_Scaled_CSV_Files/24.0.csv\n",
      "5%-MinMax_Scaled_CSV_Files/24.10.csv\n",
      "5%-MinMax_Scaled_CSV_Files/24.5.csv\n",
      "5%-MinMax_Scaled_CSV_Files/25.0.csv\n",
      "5%-MinMax_Scaled_CSV_Files/25.10.csv\n",
      "5%-MinMax_Scaled_CSV_Files/25.5.csv\n",
      "5%-MinMax_Scaled_CSV_Files/26.0.csv\n",
      "5%-MinMax_Scaled_CSV_Files/26.10.csv\n",
      "5%-MinMax_Scaled_CSV_Files/26.5.csv\n",
      "5%-MinMax_Scaled_CSV_Files/27.0.csv\n",
      "5%-MinMax_Scaled_CSV_Files/27.10.csv\n",
      "5%-MinMax_Scaled_CSV_Files/27.5.csv\n",
      "5%-MinMax_Scaled_CSV_Files/28.0.csv\n",
      "5%-MinMax_Scaled_CSV_Files/28.10.csv\n",
      "5%-MinMax_Scaled_CSV_Files/28.5.csv\n",
      "5%-MinMax_Scaled_CSV_Files/29.0.csv\n",
      "5%-MinMax_Scaled_CSV_Files/29.10.csv\n",
      "5%-MinMax_Scaled_CSV_Files/29.5.csv\n",
      "5%-MinMax_Scaled_CSV_Files/30.0.csv\n",
      "5%-MinMax_Scaled_CSV_Files/30.10.csv\n",
      "5%-MinMax_Scaled_CSV_Files/30.5.csv\n",
      "5%-MinMax_Scaled_CSV_Files/31.0.csv\n",
      "5%-MinMax_Scaled_CSV_Files/31.10.csv\n",
      "5%-MinMax_Scaled_CSV_Files/31.5.csv\n",
      "5%-MinMax_Scaled_CSV_Files/32.0.csv\n",
      "5%-MinMax_Scaled_CSV_Files/32.10.csv\n",
      "5%-MinMax_Scaled_CSV_Files/32.5.csv\n",
      "5%-MinMax_Scaled_CSV_Files/33.0.csv\n",
      "5%-MinMax_Scaled_CSV_Files/33.10.csv\n",
      "5%-MinMax_Scaled_CSV_Files/33.5.csv\n",
      "5%-MinMax_Scaled_CSV_Files/34.0.csv\n",
      "5%-MinMax_Scaled_CSV_Files/34.10.csv\n",
      "5%-MinMax_Scaled_CSV_Files/34.5.csv\n",
      "5%-MinMax_Scaled_CSV_Files/35.0.csv\n",
      "5%-MinMax_Scaled_CSV_Files/35.10.csv\n",
      "5%-MinMax_Scaled_CSV_Files/35.5.csv\n",
      "5%-MinMax_Scaled_CSV_Files/36.0.csv\n",
      "5%-MinMax_Scaled_CSV_Files/36.10.csv\n",
      "5%-MinMax_Scaled_CSV_Files/36.5.csv\n",
      "5%-MinMax_Scaled_CSV_Files/37.0.csv\n",
      "5%-MinMax_Scaled_CSV_Files/37.10.csv\n",
      "5%-MinMax_Scaled_CSV_Files/37.5.csv\n",
      "5%-MinMax_Scaled_CSV_Files/38.0.csv\n",
      "5%-MinMax_Scaled_CSV_Files/38.10.csv\n",
      "5%-MinMax_Scaled_CSV_Files/38.5.csv\n",
      "5%-MinMax_Scaled_CSV_Files/39.0.csv\n",
      "5%-MinMax_Scaled_CSV_Files/39.10.csv\n",
      "5%-MinMax_Scaled_CSV_Files/39.5.csv\n",
      "5%-MinMax_Scaled_CSV_Files/40.0.csv\n",
      "5%-MinMax_Scaled_CSV_Files/40.10.csv\n",
      "5%-MinMax_Scaled_CSV_Files/40.5.csv\n",
      "5%-MinMax_Scaled_CSV_Files/41.0.csv\n",
      "5%-MinMax_Scaled_CSV_Files/41.10.csv\n",
      "5%-MinMax_Scaled_CSV_Files/41.5.csv\n",
      "5%-MinMax_Scaled_CSV_Files/42.0.csv\n",
      "5%-MinMax_Scaled_CSV_Files/42.10.csv\n",
      "5%-MinMax_Scaled_CSV_Files/42.5.csv\n",
      "5%-MinMax_Scaled_CSV_Files/43.0.csv\n",
      "5%-MinMax_Scaled_CSV_Files/43.10.csv\n",
      "5%-MinMax_Scaled_CSV_Files/43.5.csv\n",
      "5%-MinMax_Scaled_CSV_Files/44.0.csv\n",
      "5%-MinMax_Scaled_CSV_Files/44.10.csv\n",
      "5%-MinMax_Scaled_CSV_Files/44.5.csv\n",
      "5%-MinMax_Scaled_CSV_Files/45.0.csv\n",
      "5%-MinMax_Scaled_CSV_Files/45.10.csv\n",
      "5%-MinMax_Scaled_CSV_Files/45.5.csv\n",
      "5%-MinMax_Scaled_CSV_Files/46.0.csv\n",
      "5%-MinMax_Scaled_CSV_Files/46.10.csv\n",
      "5%-MinMax_Scaled_CSV_Files/46.5.csv\n",
      "5%-MinMax_Scaled_CSV_Files/47.0.csv\n",
      "5%-MinMax_Scaled_CSV_Files/47.10.csv\n",
      "5%-MinMax_Scaled_CSV_Files/47.5.csv\n",
      "5%-MinMax_Scaled_CSV_Files/48.0.csv\n",
      "5%-MinMax_Scaled_CSV_Files/48.10.csv\n",
      "5%-MinMax_Scaled_CSV_Files/48.5.csv\n",
      "5%-MinMax_Scaled_CSV_Files/49.0.csv\n",
      "5%-MinMax_Scaled_CSV_Files/49.10.csv\n",
      "5%-MinMax_Scaled_CSV_Files/49.5.csv\n",
      "5%-MinMax_Scaled_CSV_Files/50.0.csv\n",
      "5%-MinMax_Scaled_CSV_Files/50.10.csv\n",
      "5%-MinMax_Scaled_CSV_Files/50.5.csv\n",
      "5%-MinMax_Scaled_CSV_Files/51.0.csv\n",
      "5%-MinMax_Scaled_CSV_Files/51.10.csv\n",
      "5%-MinMax_Scaled_CSV_Files/51.5.csv\n",
      "5%-MinMax_Scaled_CSV_Files/52.0.csv\n",
      "5%-MinMax_Scaled_CSV_Files/52.10.csv\n",
      "5%-MinMax_Scaled_CSV_Files/52.5.csv\n",
      "5%-MinMax_Scaled_CSV_Files/53.0.csv\n",
      "5%-MinMax_Scaled_CSV_Files/53.10.csv\n",
      "5%-MinMax_Scaled_CSV_Files/53.5.csv\n",
      "5%-MinMax_Scaled_CSV_Files/54.0.csv\n",
      "5%-MinMax_Scaled_CSV_Files/54.10.csv\n",
      "5%-MinMax_Scaled_CSV_Files/54.5.csv\n",
      "5%-MinMax_Scaled_CSV_Files/55.0.csv\n",
      "5%-MinMax_Scaled_CSV_Files/55.10.csv\n",
      "5%-MinMax_Scaled_CSV_Files/55.5.csv\n",
      "5%-MinMax_Scaled_CSV_Files/56.0.csv\n",
      "5%-MinMax_Scaled_CSV_Files/56.10.csv\n",
      "5%-MinMax_Scaled_CSV_Files/56.5.csv\n",
      "5%-MinMax_Scaled_CSV_Files/57.0.csv\n",
      "5%-MinMax_Scaled_CSV_Files/57.10.csv\n",
      "5%-MinMax_Scaled_CSV_Files/57.5.csv\n",
      "5%-MinMax_Scaled_CSV_Files/58.0.csv\n",
      "5%-MinMax_Scaled_CSV_Files/58.10.csv\n",
      "5%-MinMax_Scaled_CSV_Files/58.5.csv\n",
      "5%-MinMax_Scaled_CSV_Files/59.0.csv\n",
      "5%-MinMax_Scaled_CSV_Files/59.10.csv\n",
      "5%-MinMax_Scaled_CSV_Files/59.5.csv\n",
      "5%-MinMax_Scaled_CSV_Files/60.0.csv\n",
      "5%-MinMax_Scaled_CSV_Files/60.10.csv\n",
      "5%-MinMax_Scaled_CSV_Files/60.5.csv\n"
     ]
    }
   ],
   "source": [
    "with pd.HDFStore(hdf_path, mode='w', complevel=5, complib='blosc') as store:\n",
    "    # This compresses the final file by 5 using blosc. You can avoid that or change it as per your needs.\n",
    "    for file in files:\n",
    "        filePath = path + file\n",
    "        print(filePath)\n",
    "        df = pd.read_csv(filePath,header=None)\n",
    "        y = int(file.split('.')[1])\n",
    "        df[136] = y\n",
    "        store.append('table_name',df, index=False)\n",
    "    # Then create the indexes, if you need it\n",
    "    store.create_table_index('table_name', columns=[str(i) for i in range((68*2)+1)], optlevel=9, kind='full')"
   ]
  },
  {
   "cell_type": "code",
   "execution_count": 7,
   "metadata": {},
   "outputs": [],
   "source": [
    "df = pd.read_hdf(\"min_max_scaled_compressed_datafile.h5\")"
   ]
  },
  {
   "cell_type": "code",
   "execution_count": 8,
   "metadata": {},
   "outputs": [],
   "source": [
    "df.to_csv(\"min_max_scaled_uncompressed.csv\",index=False)"
   ]
  },
  {
   "cell_type": "code",
   "execution_count": null,
   "metadata": {},
   "outputs": [],
   "source": []
  }
 ],
 "metadata": {
  "kernelspec": {
   "display_name": "Python 3",
   "language": "python",
   "name": "python3"
  },
  "language_info": {
   "codemirror_mode": {
    "name": "ipython",
    "version": 3
   },
   "file_extension": ".py",
   "mimetype": "text/x-python",
   "name": "python",
   "nbconvert_exporter": "python",
   "pygments_lexer": "ipython3",
   "version": "3.6.8"
  }
 },
 "nbformat": 4,
 "nbformat_minor": 2
}
